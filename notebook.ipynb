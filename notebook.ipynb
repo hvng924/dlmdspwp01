{
 "cells": [
  {
   "cell_type": "code",
   "execution_count": null,
   "id": "92adac7d",
   "metadata": {
    "scrolled": false
   },
   "outputs": [],
   "source": [
    "from db_loader import load_csv_to_db\n",
    "from db.connection_factory import SqliteFactory\n",
    "from analytics import sum_deviations_squared, list_to_dataframe, max_deviation\n",
    "from db.dao.test import TestDAO, TestIdealDAO\n",
    "from db.dao.train import TrainDAO\n",
    "from db.dao.ideal import IdealDAO\n",
    "import matplotlib.pyplot as plt\n",
    "import math\n",
    "import numpy as np\n",
    "import pandas as pd"
   ]
  },
  {
   "cell_type": "code",
   "execution_count": null,
   "id": "73ae3015",
   "metadata": {
    "scrolled": true
   },
   "outputs": [],
   "source": [
    "# uncomment to reload DB\n",
    "\n",
    "load_csv_to_db(SqliteFactory)"
   ]
  },
  {
   "cell_type": "code",
   "execution_count": null,
   "id": "2e5a59e6",
   "metadata": {
    "scrolled": false
   },
   "outputs": [],
   "source": [
    "train_dao = TrainDAO(SqliteFactory)\n",
    "ideal_dao = IdealDAO(SqliteFactory)"
   ]
  },
  {
   "cell_type": "code",
   "execution_count": null,
   "id": "c6b1a763",
   "metadata": {
    "scrolled": false
   },
   "outputs": [],
   "source": [
    "train_data = list_to_dataframe(train_dao.get_all())\n",
    "ideal_data = list_to_dataframe(ideal_dao.get_all())"
   ]
  },
  {
   "cell_type": "code",
   "execution_count": null,
   "id": "ece6d77e",
   "metadata": {
    "scrolled": false
   },
   "outputs": [],
   "source": [
    "%matplotlib inline\n",
    "import sys\n",
    "\n",
    "ideal_no = {i: -1 for i in range(1, 5)}\n",
    "\n",
    "for j in range(1, 5):\n",
    "    train_k = \"y%d\" % j\n",
    "    deviation = float('inf')\n",
    "    \n",
    "    for i in range(1, 51):\n",
    "        ideal_k = 'y%d' % i\n",
    "        tmp = sum_deviations_squared(ideal_data[ideal_k], train_data[train_k])\n",
    "        \n",
    "        if tmp < deviation:\n",
    "            ideal_no[j] = i\n",
    "            deviation = tmp\n",
    "    \n",
    "    print(\"Training function %d\" % j)\n",
    "    fig, axes = plt.subplots(1, 1, figsize=(15, 12))\n",
    "    axes.scatter(train_data['x'], train_data[train_k], label='Training', marker='o')\n",
    "    axes.plot(ideal_data['x'], ideal_data[\"y%d\" % ideal_no[j]], \"red\", label='Ideal', linewidth=2, alpha=1)\n",
    "    axes.legend()\n",
    "    plt.show()"
   ]
  },
  {
   "cell_type": "code",
   "execution_count": null,
   "id": "95b5072b",
   "metadata": {
    "scrolled": true
   },
   "outputs": [],
   "source": [
    "print(\"Training to ideal function number mapping\")\n",
    "\n",
    "pd.DataFrame(data=ideal_no, index=[0])"
   ]
  },
  {
   "cell_type": "code",
   "execution_count": null,
   "id": "7abe48bd",
   "metadata": {
    "scrolled": false
   },
   "outputs": [],
   "source": []
  },
  {
   "cell_type": "code",
   "execution_count": null,
   "id": "b3e15426",
   "metadata": {
    "scrolled": false
   },
   "outputs": [],
   "source": [
    "max_deviations = {}\n",
    "\n",
    "for i in range(1, 5):\n",
    "    train_k = \"y%d\" % i\n",
    "    ideal_k = 'y%d' % ideal_no[i]\n",
    "    max_deviations[ideal_no[i]] = max_deviation(train_data[train_k], ideal_data[ideal_k])"
   ]
  },
  {
   "cell_type": "code",
   "execution_count": null,
   "id": "040b790f",
   "metadata": {
    "scrolled": false
   },
   "outputs": [],
   "source": [
    "print(\"Max deviation of train functions\")\n",
    "\n",
    "%matplotlib inline\n",
    "plt.barh([i for i in range(1, 5)], max_deviations.values())\n",
    "\n",
    "for index, value in enumerate(max_deviations.values()):\n",
    "    plt.text(value, index + 1, str(value))\n",
    "\n",
    "plt.show()"
   ]
  },
  {
   "cell_type": "code",
   "execution_count": null,
   "id": "e7b128d5",
   "metadata": {
    "scrolled": false
   },
   "outputs": [],
   "source": [
    "test_dao = TestDAO(SqliteFactory)\n",
    "test_data = test_dao.get_all()\n",
    "test_data = list_to_dataframe(test_data)\n",
    "test_data"
   ]
  },
  {
   "cell_type": "code",
   "execution_count": null,
   "id": "f3cb8606",
   "metadata": {
    "scrolled": false
   },
   "outputs": [],
   "source": [
    "assigned_ideal = []\n",
    "delta_ys = []\n",
    "ideal_ys = []\n",
    "\n",
    "for i in range(len(test_data)):\n",
    "    x = test_data['x'].values[i]\n",
    "    y = test_data['y'].values[i]\n",
    "    ideal_row = ideal_data[ideal_data['x'] == x].head()\n",
    "    \n",
    "    if ideal_row.empty:\n",
    "        assigned_ideal.append(None)\n",
    "        delta_y .append(None)\n",
    "        continue\n",
    "        \n",
    "    min_delta_y = float('inf')\n",
    "    ideal_func = None\n",
    "    max_delta = None\n",
    "    \n",
    "    for k, v in max_deviations.items():\n",
    "        delta_y = abs(y - ideal_row[\"y%d\" % k].values[0])\n",
    "        \n",
    "        if v * math.sqrt(2) >= delta_y and min_delta_y > delta_y:\n",
    "            min_delta_y = delta_y\n",
    "            ideal_func = k\n",
    "            max_delta = v\n",
    "            \n",
    "    assigned_ideal.append(ideal_func)\n",
    "    delta_ys.append(min_delta_y if min_delta_y < float('inf') else None)\n",
    "    ideal_ys.append(ideal_row[\"y%d\" % ideal_func].values[0] if ideal_func is not None else None)\n",
    "\n",
    "test_data['ideal_func'] = assigned_ideal\n",
    "test_data['delta_y'] = delta_ys\n",
    "test_data['ideal_y'] = ideal_ys\n",
    "print(test_data.to_string())"
   ]
  },
  {
   "cell_type": "code",
   "execution_count": null,
   "id": "dd003fe1",
   "metadata": {
    "scrolled": false
   },
   "outputs": [],
   "source": [
    "\n",
    "fig, axes = plt.subplots(1, 1, figsize=(10, 10))\n",
    "axes.scatter(test_data['x'], test_data['y'], label=\"Test\", marker='o')\n",
    "\n",
    "for k, v in max_deviations.items():\n",
    "    test_data_copy = test_data.copy()\n",
    "    test_data_copy.loc[test_data.ideal_func != k, 'ideal_y'] = None\n",
    "    axes.scatter(test_data['x'], test_data_copy['ideal_y'], label=\"Ideal function %d\" % k, alpha=0.7)\n",
    "axes.legend()\n",
    "plt.show()"
   ]
  },
  {
   "cell_type": "code",
   "execution_count": null,
   "id": "3a398f67",
   "metadata": {
    "scrolled": false
   },
   "outputs": [],
   "source": [
    "test_ideal_dao = TestIdealDAO(SqliteFactory)"
   ]
  },
  {
   "cell_type": "code",
   "execution_count": null,
   "id": "71090125",
   "metadata": {
    "scrolled": true
   },
   "outputs": [],
   "source": [
    "for i in range (len(test_data)):\n",
    "    data = {\n",
    "        'id': i + 1, # avoid duplicate\n",
    "        'x': test_data['x'].values[i],\n",
    "        'y': test_data['y'].values[i],\n",
    "        'delta_y': test_data['delta_y'].values[i],\n",
    "        'ideal_no': test_data['ideal_func'].values[i],\n",
    "    }\n",
    "    test_ideal_dao.save(data)"
   ]
  },
  {
   "cell_type": "code",
   "execution_count": null,
   "id": "87e95131",
   "metadata": {
    "scrolled": false
   },
   "outputs": [],
   "source": [
    "list_to_dataframe(test_ideal_dao.get_all())"
   ]
  }
 ],
 "metadata": {
  "kernelspec": {
   "display_name": "local-venv",
   "language": "python",
   "name": "local-venv"
  },
  "language_info": {
   "codemirror_mode": {
    "name": "ipython",
    "version": 3
   },
   "file_extension": ".py",
   "mimetype": "text/x-python",
   "name": "python",
   "nbconvert_exporter": "python",
   "pygments_lexer": "ipython3",
   "version": "3.8.6"
  }
 },
 "nbformat": 4,
 "nbformat_minor": 5
}
