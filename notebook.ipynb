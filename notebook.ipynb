{
 "cells": [
  {
   "cell_type": "code",
   "execution_count": null,
   "id": "92adac7d",
   "metadata": {},
   "outputs": [],
   "source": [
    "from db_loader import load_csv_to_db\n",
    "from db.connection_factory import SqliteFactory\n",
    "from analytics import sum_deviations_squared, list_to_dataframe, max_deviation\n",
    "from db.dao.test import TestDAO, TestIdealDAO\n",
    "from db.dao.train import TrainDAO\n",
    "from db.dao.ideal import IdealDAO\n",
    "import matplotlib.pyplot as plt\n",
    "import numpy as np"
   ]
  },
  {
   "cell_type": "code",
   "execution_count": null,
   "id": "73ae3015",
   "metadata": {},
   "outputs": [],
   "source": [
    "# uncomment to reload DB\n",
    "\n",
    "# load_csv_to_db(SqliteFactory)"
   ]
  },
  {
   "cell_type": "code",
   "execution_count": null,
   "id": "2e5a59e6",
   "metadata": {
    "scrolled": true
   },
   "outputs": [],
   "source": [
    "train_dao = TrainDAO(SqliteFactory)\n",
    "ideal_dao = IdealDAO(SqliteFactory)"
   ]
  },
  {
   "cell_type": "code",
   "execution_count": null,
   "id": "c6b1a763",
   "metadata": {},
   "outputs": [],
   "source": [
    "train_data = list_to_dataframe(train_dao.get_all())\n",
    "ideal_data = list_to_dataframe(ideal_dao.get_all())"
   ]
  },
  {
   "cell_type": "code",
   "execution_count": null,
   "id": "ece6d77e",
   "metadata": {},
   "outputs": [],
   "source": [
    "%matplotlib inline\n",
    "import sys\n",
    "\n",
    "ideal_no = {i: -1 for i in range(1, 5)}\n",
    "\n",
    "for j in range(1, 5):\n",
    "    train_k = \"y%d\" % j\n",
    "    deviation = float('inf')\n",
    "    \n",
    "    for i in range(1, 51):\n",
    "        ideal_k = 'y%d' % i\n",
    "        tmp = sum_deviations_squared(ideal_data[ideal_k], train_data[train_k])\n",
    "        \n",
    "        if tmp < deviation:\n",
    "            ideal_no[j] = i\n",
    "            deviation = tmp\n",
    "\n",
    "max_deviations = {}\n",
    "\n",
    "for i in range(1, 5):\n",
    "    train_k = \"y%d\" % i\n",
    "    ideal_k = 'y%d' % ideal_no[i]\n",
    "    max_deviations[ideal_no[i]] = max_deviation(train_data[train_k], ideal_data[ideal_k])\n",
    "\n",
    "max_deviations"
   ]
  },
  {
   "cell_type": "code",
   "execution_count": null,
   "id": "e7b128d5",
   "metadata": {},
   "outputs": [],
   "source": [
    "test_dao = TestDAO(SqliteFactory)\n",
    "test_data = test_dao.get_all()\n",
    "test_data = list_to_dataframe(test_data)\n",
    "test_data"
   ]
  },
  {
   "cell_type": "code",
   "execution_count": null,
   "id": "12e03f34",
   "metadata": {},
   "outputs": [],
   "source": [
    "ideal_data"
   ]
  }
 ],
 "metadata": {
  "kernelspec": {
   "display_name": "local-venv",
   "language": "python",
   "name": "local-venv"
  },
  "language_info": {
   "codemirror_mode": {
    "name": "ipython",
    "version": 3
   },
   "file_extension": ".py",
   "mimetype": "text/x-python",
   "name": "python",
   "nbconvert_exporter": "python",
   "pygments_lexer": "ipython3",
   "version": "3.8.6"
  }
 },
 "nbformat": 4,
 "nbformat_minor": 5
}
