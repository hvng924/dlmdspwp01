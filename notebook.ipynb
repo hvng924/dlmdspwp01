{
 "cells": [
  {
   "cell_type": "code",
   "execution_count": null,
   "id": "92adac7d",
   "metadata": {},
   "outputs": [],
   "source": [
    "from db_loader import load_csv_to_db\n",
    "from db.connection_factory import SqliteFactory"
   ]
  },
  {
   "cell_type": "code",
   "execution_count": null,
   "id": "73ae3015",
   "metadata": {},
   "outputs": [],
   "source": [
    "# uncomment to reload DB\n",
    "\n",
    "# load_csv_to_db(SqliteFactory)"
   ]
  },
  {
   "cell_type": "code",
   "execution_count": null,
   "id": "d9916ece",
   "metadata": {},
   "outputs": [],
   "source": [
    "from db.dao.test import TestDAO"
   ]
  },
  {
   "cell_type": "code",
   "execution_count": null,
   "id": "7ecfe9cf",
   "metadata": {},
   "outputs": [],
   "source": [
    "dao = TestDAO(SqliteMemoryFactory)\n",
    "dao.get_all()"
   ]
  },
  {
   "cell_type": "code",
   "execution_count": null,
   "id": "0bddd68f",
   "metadata": {},
   "outputs": [],
   "source": []
  }
 ],
 "metadata": {
  "kernelspec": {
   "display_name": "local-venv",
   "language": "python",
   "name": "local-venv"
  },
  "language_info": {
   "codemirror_mode": {
    "name": "ipython",
    "version": 3
   },
   "file_extension": ".py",
   "mimetype": "text/x-python",
   "name": "python",
   "nbconvert_exporter": "python",
   "pygments_lexer": "ipython3",
   "version": "3.8.6"
  }
 },
 "nbformat": 4,
 "nbformat_minor": 5
}
