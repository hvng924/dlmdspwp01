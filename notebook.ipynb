{
 "cells": [
  {
   "cell_type": "code",
   "execution_count": 8,
   "id": "92adac7d",
   "metadata": {},
   "outputs": [
    {
     "ename": "ImportError",
     "evalue": "cannot import name 'SqliteFactory' from 'db.connection_factory' (/Users/hvng/Workspace/iubh/dlmdspwp01/db/connection_factory.py)",
     "output_type": "error",
     "traceback": [
      "\u001b[0;31m---------------------------------------------------------------------------\u001b[0m",
      "\u001b[0;31mImportError\u001b[0m                               Traceback (most recent call last)",
      "\u001b[0;32m/var/folders/_g/q9xvbjyx7fnbsj7zfwyj0frw0000gn/T/ipykernel_44775/4163904846.py\u001b[0m in \u001b[0;36m<module>\u001b[0;34m\u001b[0m\n\u001b[1;32m      1\u001b[0m \u001b[0;32mfrom\u001b[0m \u001b[0mdb_loader\u001b[0m \u001b[0;32mimport\u001b[0m \u001b[0mload_csv_to_db\u001b[0m\u001b[0;34m\u001b[0m\u001b[0;34m\u001b[0m\u001b[0m\n\u001b[0;32m----> 2\u001b[0;31m \u001b[0;32mfrom\u001b[0m \u001b[0mdb\u001b[0m\u001b[0;34m.\u001b[0m\u001b[0mconnection_factory\u001b[0m \u001b[0;32mimport\u001b[0m \u001b[0mSqliteFactory\u001b[0m\u001b[0;34m\u001b[0m\u001b[0;34m\u001b[0m\u001b[0m\n\u001b[0m",
      "\u001b[0;31mImportError\u001b[0m: cannot import name 'SqliteFactory' from 'db.connection_factory' (/Users/hvng/Workspace/iubh/dlmdspwp01/db/connection_factory.py)"
     ]
    }
   ],
   "source": [
    "from db_loader import load_csv_to_db\n",
    "from db.connection_factory import SqliteFactory"
   ]
  },
  {
   "cell_type": "code",
   "execution_count": null,
   "id": "73ae3015",
   "metadata": {},
   "outputs": [],
   "source": [
    "load_csv_to_db(SqliteMemoryFactory)"
   ]
  },
  {
   "cell_type": "code",
   "execution_count": null,
   "id": "d9916ece",
   "metadata": {},
   "outputs": [],
   "source": [
    "from db.dao.test import TestDAO"
   ]
  },
  {
   "cell_type": "code",
   "execution_count": null,
   "id": "7ecfe9cf",
   "metadata": {},
   "outputs": [],
   "source": [
    "dao = TestDAO(SqliteMemoryFactory)\n",
    "dao.get_all()"
   ]
  },
  {
   "cell_type": "code",
   "execution_count": null,
   "id": "0bddd68f",
   "metadata": {},
   "outputs": [],
   "source": []
  }
 ],
 "metadata": {
  "kernelspec": {
   "display_name": "local-venv",
   "language": "python",
   "name": "local-venv"
  },
  "language_info": {
   "codemirror_mode": {
    "name": "ipython",
    "version": 3
   },
   "file_extension": ".py",
   "mimetype": "text/x-python",
   "name": "python",
   "nbconvert_exporter": "python",
   "pygments_lexer": "ipython3",
   "version": "3.8.6"
  }
 },
 "nbformat": 4,
 "nbformat_minor": 5
}
